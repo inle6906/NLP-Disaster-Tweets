{
 "cells": [
  {
   "cell_type": "code",
   "execution_count": 1,
   "id": "e46cbd06",
   "metadata": {
    "ExecuteTime": {
     "end_time": "2022-07-18T14:59:28.909459Z",
     "start_time": "2022-07-18T14:59:28.896498Z"
    },
    "execution": {
     "iopub.execute_input": "2022-07-19T07:29:34.037093Z",
     "iopub.status.busy": "2022-07-19T07:29:34.036159Z",
     "iopub.status.idle": "2022-07-19T07:29:46.023296Z",
     "shell.execute_reply": "2022-07-19T07:29:46.022152Z"
    },
    "papermill": {
     "duration": 12.003919,
     "end_time": "2022-07-19T07:29:46.026131",
     "exception": false,
     "start_time": "2022-07-19T07:29:34.022212",
     "status": "completed"
    },
    "tags": []
   },
   "outputs": [],
   "source": [
    "import re\n",
    "import numpy as np\n",
    "import pandas as pd\n",
    "from tqdm import tqdm\n",
    "import matplotlib.pyplot as plt\n",
    "import seaborn as sns\n",
    "import nltk\n",
    "from nltk.corpus import stopwords \n",
    "\n",
    "import warnings\n",
    "warnings.filterwarnings('ignore')\n",
    "from sklearn.model_selection import cross_validate, cross_val_score, train_test_split, StratifiedKFold\n",
    "\n",
    "import keras\n",
    "from keras.initializers import Constant\n",
    "import tensorflow as tf\n",
    "from tensorflow.keras.preprocessing.text import Tokenizer\n",
    "from tensorflow.keras.preprocessing.sequence import pad_sequences\n",
    "from tensorflow.keras import layers, Sequential\n",
    "from tensorflow.keras import optimizers"
   ]
  },
  {
   "cell_type": "code",
   "execution_count": 2,
   "id": "90bc651a",
   "metadata": {
    "ExecuteTime": {
     "end_time": "2022-07-18T14:01:03.634670Z",
     "start_time": "2022-07-18T14:01:03.602197Z"
    },
    "execution": {
     "iopub.execute_input": "2022-07-19T07:29:46.049441Z",
     "iopub.status.busy": "2022-07-19T07:29:46.048785Z",
     "iopub.status.idle": "2022-07-19T07:29:46.122178Z",
     "shell.execute_reply": "2022-07-19T07:29:46.120976Z"
    },
    "papermill": {
     "duration": 0.087691,
     "end_time": "2022-07-19T07:29:46.124657",
     "exception": false,
     "start_time": "2022-07-19T07:29:46.036966",
     "status": "completed"
    },
    "tags": []
   },
   "outputs": [],
   "source": [
    "train_data = pd.read_csv('../input/nlp-getting-started/train.csv', dtype={'id': np.int16, 'target': np.int8})\n",
    "test_data = pd.read_csv('../input/nlp-getting-started/test.csv', dtype={'id': np.int16})"
   ]
  },
  {
   "cell_type": "code",
   "execution_count": 3,
   "id": "75e6079b",
   "metadata": {
    "ExecuteTime": {
     "end_time": "2022-07-18T14:01:03.893294Z",
     "start_time": "2022-07-18T14:01:03.882324Z"
    },
    "execution": {
     "iopub.execute_input": "2022-07-19T07:29:46.150399Z",
     "iopub.status.busy": "2022-07-19T07:29:46.149702Z",
     "iopub.status.idle": "2022-07-19T07:29:46.166415Z",
     "shell.execute_reply": "2022-07-19T07:29:46.165601Z"
    },
    "papermill": {
     "duration": 0.032453,
     "end_time": "2022-07-19T07:29:46.168517",
     "exception": false,
     "start_time": "2022-07-19T07:29:46.136064",
     "status": "completed"
    },
    "tags": []
   },
   "outputs": [
    {
     "data": {
      "text/plain": [
       "id             0\n",
       "keyword       61\n",
       "location    2533\n",
       "text           0\n",
       "target         0\n",
       "dtype: int64"
      ]
     },
     "execution_count": 3,
     "metadata": {},
     "output_type": "execute_result"
    }
   ],
   "source": [
    "train_data.isnull().sum()"
   ]
  },
  {
   "cell_type": "code",
   "execution_count": 4,
   "id": "070abc3d",
   "metadata": {
    "ExecuteTime": {
     "end_time": "2022-07-18T14:01:04.149724Z",
     "start_time": "2022-07-18T14:01:04.129748Z"
    },
    "execution": {
     "iopub.execute_input": "2022-07-19T07:29:46.191893Z",
     "iopub.status.busy": "2022-07-19T07:29:46.190995Z",
     "iopub.status.idle": "2022-07-19T07:29:46.210322Z",
     "shell.execute_reply": "2022-07-19T07:29:46.209201Z"
    },
    "papermill": {
     "duration": 0.033836,
     "end_time": "2022-07-19T07:29:46.212977",
     "exception": false,
     "start_time": "2022-07-19T07:29:46.179141",
     "status": "completed"
    },
    "tags": []
   },
   "outputs": [
    {
     "data": {
      "text/plain": [
       "target\n",
       "0    4342\n",
       "1    3271\n",
       "Name: id, dtype: int64"
      ]
     },
     "execution_count": 4,
     "metadata": {},
     "output_type": "execute_result"
    }
   ],
   "source": [
    "train_data.groupby('target').count()['id']"
   ]
  },
  {
   "cell_type": "code",
   "execution_count": 5,
   "id": "62896c77",
   "metadata": {
    "ExecuteTime": {
     "end_time": "2022-07-18T14:01:04.631214Z",
     "start_time": "2022-07-18T14:01:04.418807Z"
    },
    "execution": {
     "iopub.execute_input": "2022-07-19T07:29:46.236373Z",
     "iopub.status.busy": "2022-07-19T07:29:46.235977Z",
     "iopub.status.idle": "2022-07-19T07:29:46.535181Z",
     "shell.execute_reply": "2022-07-19T07:29:46.534415Z"
    },
    "papermill": {
     "duration": 0.313693,
     "end_time": "2022-07-19T07:29:46.537259",
     "exception": false,
     "start_time": "2022-07-19T07:29:46.223566",
     "status": "completed"
    },
    "tags": []
   },
   "outputs": [
    {
     "data": {
      "image/png": "[encoded data removed]",
      "text/plain": [
       "<Figure size 720x1080 with 2 Axes>"
      ]
     },
     "metadata": {
      "needs_background": "light"
     },
     "output_type": "display_data"
    }
   ],
   "source": [
    "miss_cols = ['keyword', 'location']\n",
    "\n",
    "fig, axes = plt.subplots(2,figsize=(10, 15))\n",
    "\n",
    "sns.barplot(x=train_data[miss_cols].isnull().sum().index, y=train_data[miss_cols].isnull().sum().values, ax=axes[0])\n",
    "sns.barplot(x=train_data[miss_cols].isnull().sum().index, y=train_data[miss_cols].isnull().sum().values, ax=axes[1])\n",
    "\n",
    "axes[0].set_ylabel('Missing Count', size=15, labelpad=20)\n",
    "axes[0].tick_params(axis='x', labelsize=15)\n",
    "axes[0].tick_params(axis='y', labelsize=15)\n",
    "axes[1].set_ylabel('Missing Count', size=15, labelpad=20)\n",
    "axes[1].tick_params(axis='x', labelsize=15)\n",
    "axes[1].tick_params(axis='y', labelsize=15)\n",
    "\n",
    "axes[0].set_title('Train data', fontsize=15)\n",
    "axes[1].set_title('Test data', fontsize=15)\n",
    "\n",
    "plt.show()\n",
    "\n",
    "# for data in [train_data, test_data]:\n",
    "#     for col in ['keyword', 'location']:\n",
    "#         data[col] = data[col].fillna(f'no_{col}')"
   ]
  },
  {
   "cell_type": "code",
   "execution_count": null,
   "id": "de65cbf6",
   "metadata": {
    "papermill": {
     "duration": 0.01113,
     "end_time": "2022-07-19T07:29:46.559556",
     "exception": false,
     "start_time": "2022-07-19T07:29:46.548426",
     "status": "completed"
    },
    "tags": []
   },
   "outputs": [],
   "source": []
  },
  {
   "cell_type": "code",
   "execution_count": 6,
   "id": "34f2ecfc",
   "metadata": {
    "ExecuteTime": {
     "end_time": "2022-07-18T13:54:01.149105Z",
     "start_time": "2022-07-18T13:54:01.139132Z"
    },
    "execution": {
     "iopub.execute_input": "2022-07-19T07:29:46.583895Z",
     "iopub.status.busy": "2022-07-19T07:29:46.582749Z",
     "iopub.status.idle": "2022-07-19T07:29:46.588147Z",
     "shell.execute_reply": "2022-07-19T07:29:46.587319Z"
    },
    "papermill": {
     "duration": 0.019712,
     "end_time": "2022-07-19T07:29:46.590276",
     "exception": false,
     "start_time": "2022-07-19T07:29:46.570564",
     "status": "completed"
    },
    "tags": []
   },
   "outputs": [],
   "source": [
    "train_x = train_data['text'].copy()\n",
    "train_y = train_data['target'].copy()"
   ]
  },
  {
   "cell_type": "code",
   "execution_count": 7,
   "id": "3b7ca1fa",
   "metadata": {
    "ExecuteTime": {
     "end_time": "2022-07-18T13:54:20.471839Z",
     "start_time": "2022-07-18T13:54:20.307157Z"
    },
    "execution": {
     "iopub.execute_input": "2022-07-19T07:29:46.615299Z",
     "iopub.status.busy": "2022-07-19T07:29:46.614610Z",
     "iopub.status.idle": "2022-07-19T07:29:46.788433Z",
     "shell.execute_reply": "2022-07-19T07:29:46.787300Z"
    },
    "papermill": {
     "duration": 0.189411,
     "end_time": "2022-07-19T07:29:46.790910",
     "exception": false,
     "start_time": "2022-07-19T07:29:46.601499",
     "status": "completed"
    },
    "scrolled": true,
    "tags": []
   },
   "outputs": [
    {
     "data": {
      "text/plain": [
       "<AxesSubplot:xlabel='target', ylabel='count'>"
      ]
     },
     "execution_count": 7,
     "metadata": {},
     "output_type": "execute_result"
    },
    {
     "data": {
      "image/png": "[encoded data removed]",
      "text/plain": [
       "<Figure size 864x432 with 1 Axes>"
      ]
     },
     "metadata": {},
     "output_type": "display_data"
    }
   ],
   "source": [
    "sns.set_style('whitegrid')\n",
    "sns.set(rc={'figure.figsize':(12,6)})\n",
    "sns.countplot(train_y)"
   ]
  },
  {
   "cell_type": "markdown",
   "id": "80e7953f",
   "metadata": {
    "papermill": {
     "duration": 0.011191,
     "end_time": "2022-07-19T07:29:46.813560",
     "exception": false,
     "start_time": "2022-07-19T07:29:46.802369",
     "status": "completed"
    },
    "tags": []
   },
   "source": [
    "Cleaning"
   ]
  },
  {
   "cell_type": "code",
   "execution_count": 8,
   "id": "29cdda4a",
   "metadata": {
    "ExecuteTime": {
     "end_time": "2022-07-18T14:06:46.385311Z",
     "start_time": "2022-07-18T14:06:46.366362Z"
    },
    "execution": {
     "iopub.execute_input": "2022-07-19T07:29:46.839157Z",
     "iopub.status.busy": "2022-07-19T07:29:46.838762Z",
     "iopub.status.idle": "2022-07-19T07:29:46.851780Z",
     "shell.execute_reply": "2022-07-19T07:29:46.850802Z"
    },
    "papermill": {
     "duration": 0.028733,
     "end_time": "2022-07-19T07:29:46.854157",
     "exception": false,
     "start_time": "2022-07-19T07:29:46.825424",
     "status": "completed"
    },
    "tags": []
   },
   "outputs": [],
   "source": [
    "stop = stopwords.words('english')\n",
    "def clean(text):\n",
    "    \n",
    "    text = re.sub(r'http\\S+', ' ', text)\n",
    "    \n",
    "    text = re.sub(r'<.*?>', ' ', text)    \n",
    "    \n",
    "    text = re.sub(r'#\\w+', ' ', text)    \n",
    "     \n",
    "    text = re.sub(r'@\\w+', ' ', text)\n",
    "    \n",
    "    text = re.sub(r'\\d+', ' ', text)\n",
    "    \n",
    "    text = text.split()\n",
    "    \n",
    "    text = ' '.join([word for word in text if word not in stop])\n",
    "    \n",
    "    return text"
   ]
  },
  {
   "cell_type": "code",
   "execution_count": 9,
   "id": "043b72d7",
   "metadata": {
    "ExecuteTime": {
     "end_time": "2022-07-18T14:06:47.100399Z",
     "start_time": "2022-07-18T14:06:46.649603Z"
    },
    "execution": {
     "iopub.execute_input": "2022-07-19T07:29:46.879212Z",
     "iopub.status.busy": "2022-07-19T07:29:46.878260Z",
     "iopub.status.idle": "2022-07-19T07:29:47.127820Z",
     "shell.execute_reply": "2022-07-19T07:29:47.126522Z"
    },
    "papermill": {
     "duration": 0.264356,
     "end_time": "2022-07-19T07:29:47.130113",
     "exception": false,
     "start_time": "2022-07-19T07:29:46.865757",
     "status": "completed"
    },
    "tags": []
   },
   "outputs": [
    {
     "data": {
      "text/plain": [
       "0                Our Deeds Reason May ALLAH Forgive us\n",
       "1               Forest fire near La Ronge Sask. Canada\n",
       "2    All residents asked 'shelter place' notified o...\n",
       "3        , people receive evacuation orders California\n",
       "4          Just got sent photo Ruby smoke pours school\n",
       "Name: text, dtype: object"
      ]
     },
     "execution_count": 9,
     "metadata": {},
     "output_type": "execute_result"
    }
   ],
   "source": [
    "train_x_cleaned = train_x.apply(clean)\n",
    "train_x_cleaned.head()"
   ]
  },
  {
   "cell_type": "code",
   "execution_count": 10,
   "id": "7347b47a",
   "metadata": {
    "ExecuteTime": {
     "end_time": "2022-07-18T14:06:47.269945Z",
     "start_time": "2022-07-18T14:06:47.249999Z"
    },
    "execution": {
     "iopub.execute_input": "2022-07-19T07:29:47.154302Z",
     "iopub.status.busy": "2022-07-19T07:29:47.153920Z",
     "iopub.status.idle": "2022-07-19T07:29:47.163430Z",
     "shell.execute_reply": "2022-07-19T07:29:47.162243Z"
    },
    "papermill": {
     "duration": 0.025424,
     "end_time": "2022-07-19T07:29:47.166866",
     "exception": false,
     "start_time": "2022-07-19T07:29:47.141442",
     "status": "completed"
    },
    "tags": []
   },
   "outputs": [
    {
     "name": "stdout",
     "output_type": "stream",
     "text": [
      "max length: 141\n"
     ]
    }
   ],
   "source": [
    "max_len = max(train_x_cleaned.apply(len))\n",
    "print('max length: {}'.format(max_len))"
   ]
  },
  {
   "cell_type": "markdown",
   "id": "30cde902",
   "metadata": {
    "papermill": {
     "duration": 0.011029,
     "end_time": "2022-07-19T07:29:47.190373",
     "exception": false,
     "start_time": "2022-07-19T07:29:47.179344",
     "status": "completed"
    },
    "tags": []
   },
   "source": [
    "Tokenize"
   ]
  },
  {
   "cell_type": "code",
   "execution_count": 11,
   "id": "2ffe7032",
   "metadata": {
    "ExecuteTime": {
     "end_time": "2022-07-18T14:10:23.133600Z",
     "start_time": "2022-07-18T14:10:22.603020Z"
    },
    "execution": {
     "iopub.execute_input": "2022-07-19T07:29:47.215758Z",
     "iopub.status.busy": "2022-07-19T07:29:47.214906Z",
     "iopub.status.idle": "2022-07-19T07:29:47.467997Z",
     "shell.execute_reply": "2022-07-19T07:29:47.466737Z"
    },
    "papermill": {
     "duration": 0.269518,
     "end_time": "2022-07-19T07:29:47.471381",
     "exception": false,
     "start_time": "2022-07-19T07:29:47.201863",
     "status": "completed"
    },
    "tags": []
   },
   "outputs": [
    {
     "name": "stdout",
     "output_type": "stream",
     "text": [
      "train_x_clean: Just got sent photo Ruby smoke pours school\n",
      "**************************************************\n",
      "x: [ 318   45 1367  772 6083  478 1112  319    6    0    0    0    0    0\n",
      "    0    0    0    0    0    0    0    0    0    0    0    0    0    0\n",
      "    0    0    0    0    0    0    0    0    0    0    0    0    0    0\n",
      "    0    0    0    0    0    0    0    0    0    0    0    0    0    0\n",
      "    0    0    0    0    0    0    0    0    0    0    0    0    0    0\n",
      "    0    0    0    0    0    0    0    0    0    0    0    0    0    0\n",
      "    0    0    0    0    0    0    0    0    0    0    0    0    0    0\n",
      "    0    0    0    0    0    0    0    0    0    0    0    0    0    0\n",
      "    0    0    0    0    0    0    0    0    0    0    0    0    0    0\n",
      "    0    0    0    0    0    0    0    0    0    0    0    0    0    0\n",
      "    0]\n",
      "vocabulary size:13947\n"
     ]
    }
   ],
   "source": [
    "tokenizer = Tokenizer()\n",
    "tokenizer.fit_on_texts(train_x_cleaned)\n",
    "vocab_size = len(tokenizer.word_index) + 1\n",
    "x = tokenizer.texts_to_sequences(train_x_cleaned)\n",
    "x = pad_sequences(x, max_len, padding='post')\n",
    "y = train_y\n",
    "print('train_x_clean:', train_x_cleaned[4])\n",
    "print('*'*50)\n",
    "print('x:',x[5])\n",
    "print('vocabulary size:{}'.format(vocab_size))"
   ]
  },
  {
   "cell_type": "code",
   "execution_count": 12,
   "id": "8fa7a100",
   "metadata": {
    "ExecuteTime": {
     "end_time": "2022-07-18T14:10:23.179476Z",
     "start_time": "2022-07-18T14:10:23.166512Z"
    },
    "execution": {
     "iopub.execute_input": "2022-07-19T07:29:47.505982Z",
     "iopub.status.busy": "2022-07-19T07:29:47.504991Z",
     "iopub.status.idle": "2022-07-19T07:29:47.512272Z",
     "shell.execute_reply": "2022-07-19T07:29:47.511190Z"
    },
    "papermill": {
     "duration": 0.02571,
     "end_time": "2022-07-19T07:29:47.514580",
     "exception": false,
     "start_time": "2022-07-19T07:29:47.488870",
     "status": "completed"
    },
    "tags": []
   },
   "outputs": [
    {
     "data": {
      "text/plain": [
       "(7613, 141)"
      ]
     },
     "execution_count": 12,
     "metadata": {},
     "output_type": "execute_result"
    }
   ],
   "source": [
    "x.shape"
   ]
  },
  {
   "cell_type": "code",
   "execution_count": 13,
   "id": "a0a9289b",
   "metadata": {
    "ExecuteTime": {
     "end_time": "2022-07-18T14:10:23.255273Z",
     "start_time": "2022-07-18T14:10:23.250287Z"
    },
    "execution": {
     "iopub.execute_input": "2022-07-19T07:29:47.540044Z",
     "iopub.status.busy": "2022-07-19T07:29:47.539646Z",
     "iopub.status.idle": "2022-07-19T07:29:47.546174Z",
     "shell.execute_reply": "2022-07-19T07:29:47.544995Z"
    },
    "papermill": {
     "duration": 0.021983,
     "end_time": "2022-07-19T07:29:47.548080",
     "exception": false,
     "start_time": "2022-07-19T07:29:47.526097",
     "status": "completed"
    },
    "tags": []
   },
   "outputs": [
    {
     "data": {
      "text/plain": [
       "(7613,)"
      ]
     },
     "execution_count": 13,
     "metadata": {},
     "output_type": "execute_result"
    }
   ],
   "source": [
    "y.shape"
   ]
  },
  {
   "cell_type": "code",
   "execution_count": 14,
   "id": "fdd085e8",
   "metadata": {
    "ExecuteTime": {
     "end_time": "2022-07-18T14:27:40.367588Z",
     "start_time": "2022-07-18T14:27:40.353669Z"
    },
    "execution": {
     "iopub.execute_input": "2022-07-19T07:29:47.574249Z",
     "iopub.status.busy": "2022-07-19T07:29:47.573124Z",
     "iopub.status.idle": "2022-07-19T07:29:47.588788Z",
     "shell.execute_reply": "2022-07-19T07:29:47.587687Z"
    },
    "papermill": {
     "duration": 0.031638,
     "end_time": "2022-07-19T07:29:47.591443",
     "exception": false,
     "start_time": "2022-07-19T07:29:47.559805",
     "status": "completed"
    },
    "tags": []
   },
   "outputs": [],
   "source": [
    "X_train, X_val, y_train, y_val = train_test_split(x, y, test_size=0.2, random_state=12, stratify=y)"
   ]
  },
  {
   "cell_type": "markdown",
   "id": "00115495",
   "metadata": {
    "papermill": {
     "duration": 0.011222,
     "end_time": "2022-07-19T07:29:47.614398",
     "exception": false,
     "start_time": "2022-07-19T07:29:47.603176",
     "status": "completed"
    },
    "tags": []
   },
   "source": [
    "Model"
   ]
  },
  {
   "cell_type": "markdown",
   "id": "72de8720",
   "metadata": {
    "papermill": {
     "duration": 0.011621,
     "end_time": "2022-07-19T07:29:47.637835",
     "exception": false,
     "start_time": "2022-07-19T07:29:47.626214",
     "status": "completed"
    },
    "tags": []
   },
   "source": [
    "model1"
   ]
  },
  {
   "cell_type": "code",
   "execution_count": 15,
   "id": "9e9f7eaf",
   "metadata": {
    "ExecuteTime": {
     "end_time": "2022-07-18T14:10:24.883919Z",
     "start_time": "2022-07-18T14:10:24.250613Z"
    },
    "execution": {
     "iopub.execute_input": "2022-07-19T07:29:47.663821Z",
     "iopub.status.busy": "2022-07-19T07:29:47.663158Z",
     "iopub.status.idle": "2022-07-19T07:29:48.295397Z",
     "shell.execute_reply": "2022-07-19T07:29:48.294074Z"
    },
    "papermill": {
     "duration": 0.648266,
     "end_time": "2022-07-19T07:29:48.297950",
     "exception": false,
     "start_time": "2022-07-19T07:29:47.649684",
     "status": "completed"
    },
    "tags": []
   },
   "outputs": [
    {
     "name": "stderr",
     "output_type": "stream",
     "text": [
      "2022-07-19 07:29:47.709486: I tensorflow/core/common_runtime/process_util.cc:146] Creating new thread pool with default inter op setting: 2. Tune using inter_op_parallelism_threads for best performance.\n"
     ]
    },
    {
     "name": "stdout",
     "output_type": "stream",
     "text": [
      "Model: \"sequential\"\n",
      "_________________________________________________________________\n",
      "Layer (type)                 Output Shape              Param #   \n",
      "=================================================================\n",
      "embedding (Embedding)        (None, 141, 16)           223152    \n",
      "_________________________________________________________________\n",
      "bidirectional (Bidirectional (None, 141, 512)          420864    \n",
      "_________________________________________________________________\n",
      "global_max_pooling1d (Global (None, 512)               0         \n",
      "_________________________________________________________________\n",
      "dense (Dense)                (None, 64)                32832     \n",
      "_________________________________________________________________\n",
      "dropout (Dropout)            (None, 64)                0         \n",
      "_________________________________________________________________\n",
      "dense_1 (Dense)              (None, 2)                 130       \n",
      "=================================================================\n",
      "Total params: 676,978\n",
      "Trainable params: 676,978\n",
      "Non-trainable params: 0\n",
      "_________________________________________________________________\n"
     ]
    }
   ],
   "source": [
    "epoch_size =10\n",
    "batch_size = 32\n",
    "embedding_dim = 16\n",
    "optimizer = optimizers.Adam(lr=3e-4)\n",
    "\n",
    "model = Sequential([\n",
    "    layers.Embedding(vocab_size, embedding_dim, input_length=max_len),\n",
    "    layers.Bidirectional(layers.GRU(256, return_sequences=True)),\n",
    "    layers.GlobalMaxPool1D(),\n",
    "#     layers.Dense(128, activation='relu'),\n",
    "#     layers.Dropout(0.4),\n",
    "    layers.Dense(64, activation='relu'),\n",
    "    layers.Dropout(0.4),\n",
    "    layers.Dense(2, activation='sigmoid')\n",
    "])\n",
    "model.summary()"
   ]
  },
  {
   "cell_type": "code",
   "execution_count": 16,
   "id": "48e2da62",
   "metadata": {
    "ExecuteTime": {
     "end_time": "2022-07-18T14:25:21.762141Z",
     "start_time": "2022-07-18T14:14:55.754452Z"
    },
    "execution": {
     "iopub.execute_input": "2022-07-19T07:29:48.323899Z",
     "iopub.status.busy": "2022-07-19T07:29:48.323072Z",
     "iopub.status.idle": "2022-07-19T07:42:47.318723Z",
     "shell.execute_reply": "2022-07-19T07:42:47.317605Z"
    },
    "papermill": {
     "duration": 779.011972,
     "end_time": "2022-07-19T07:42:47.321885",
     "exception": false,
     "start_time": "2022-07-19T07:29:48.309913",
     "status": "completed"
    },
    "tags": []
   },
   "outputs": [
    {
     "name": "stdout",
     "output_type": "stream",
     "text": [
      "Epoch 1/10\n"
     ]
    },
    {
     "name": "stderr",
     "output_type": "stream",
     "text": [
      "2022-07-19 07:29:48.398715: I tensorflow/compiler/mlir/mlir_graph_optimization_pass.cc:185] None of the MLIR Optimization Passes are enabled (registered 2)\n"
     ]
    },
    {
     "name": "stdout",
     "output_type": "stream",
     "text": [
      "215/215 [==============================] - 82s 361ms/step - loss: 0.5953 - accuracy: 0.6850 - val_loss: 0.4751 - val_accuracy: 0.7966\n",
      "Epoch 2/10\n",
      "215/215 [==============================] - 78s 365ms/step - loss: 0.3588 - accuracy: 0.8574 - val_loss: 0.5348 - val_accuracy: 0.7717\n",
      "Epoch 3/10\n",
      "215/215 [==============================] - 77s 359ms/step - loss: 0.2269 - accuracy: 0.9164 - val_loss: 0.7470 - val_accuracy: 0.7336\n",
      "Epoch 4/10\n",
      "215/215 [==============================] - 77s 358ms/step - loss: 0.1488 - accuracy: 0.9483 - val_loss: 0.7848 - val_accuracy: 0.7375\n",
      "Epoch 5/10\n",
      "215/215 [==============================] - 77s 357ms/step - loss: 0.1159 - accuracy: 0.9584 - val_loss: 0.7719 - val_accuracy: 0.7690\n",
      "Epoch 6/10\n",
      "215/215 [==============================] - 77s 358ms/step - loss: 0.0976 - accuracy: 0.9648 - val_loss: 0.7142 - val_accuracy: 0.7559\n",
      "Epoch 7/10\n",
      "215/215 [==============================] - 77s 360ms/step - loss: 0.0807 - accuracy: 0.9692 - val_loss: 1.0279 - val_accuracy: 0.7415\n",
      "Epoch 8/10\n",
      "215/215 [==============================] - 77s 358ms/step - loss: 0.0685 - accuracy: 0.9721 - val_loss: 0.9422 - val_accuracy: 0.7441\n",
      "Epoch 9/10\n",
      "215/215 [==============================] - 78s 364ms/step - loss: 0.0590 - accuracy: 0.9734 - val_loss: 0.9985 - val_accuracy: 0.7598\n",
      "Epoch 10/10\n",
      "215/215 [==============================] - 78s 363ms/step - loss: 0.0534 - accuracy: 0.9765 - val_loss: 1.1201 - val_accuracy: 0.7375\n"
     ]
    }
   ],
   "source": [
    "model.compile(loss='sparse_categorical_crossentropy', optimizer = 'adam', metrics=['accuracy'])\n",
    "history = model.fit(x, y, epochs=epoch_size, validation_split=0.1)"
   ]
  },
  {
   "cell_type": "code",
   "execution_count": 17,
   "id": "94fd6ae2",
   "metadata": {
    "ExecuteTime": {
     "end_time": "2022-07-18T14:25:21.956639Z",
     "start_time": "2022-07-18T14:25:21.793077Z"
    },
    "execution": {
     "iopub.execute_input": "2022-07-19T07:42:47.558713Z",
     "iopub.status.busy": "2022-07-19T07:42:47.557781Z",
     "iopub.status.idle": "2022-07-19T07:42:47.720012Z",
     "shell.execute_reply": "2022-07-19T07:42:47.718820Z"
    },
    "papermill": {
     "duration": 0.283352,
     "end_time": "2022-07-19T07:42:47.722570",
     "exception": false,
     "start_time": "2022-07-19T07:42:47.439218",
     "status": "completed"
    },
    "tags": []
   },
   "outputs": [],
   "source": [
    "test_x = test_data['text'].copy()\n",
    "test_x = test_x.apply(clean)\n",
    "test_x = tokenizer.texts_to_sequences(test_x)\n",
    "test_x = pad_sequences(test_x, max_len, padding='post')"
   ]
  },
  {
   "cell_type": "code",
   "execution_count": 18,
   "id": "f5b921e7",
   "metadata": {
    "ExecuteTime": {
     "end_time": "2022-07-18T14:25:27.832952Z",
     "start_time": "2022-07-18T14:25:21.987556Z"
    },
    "execution": {
     "iopub.execute_input": "2022-07-19T07:42:47.959877Z",
     "iopub.status.busy": "2022-07-19T07:42:47.959505Z",
     "iopub.status.idle": "2022-07-19T07:42:59.208071Z",
     "shell.execute_reply": "2022-07-19T07:42:59.206534Z"
    },
    "papermill": {
     "duration": 11.372113,
     "end_time": "2022-07-19T07:42:59.210983",
     "exception": false,
     "start_time": "2022-07-19T07:42:47.838870",
     "status": "completed"
    },
    "tags": []
   },
   "outputs": [
    {
     "name": "stdout",
     "output_type": "stream",
     "text": [
      "[1 0 1 ... 1 1 1]\n"
     ]
    }
   ],
   "source": [
    "test_pred = np.argmax(model.predict(test_x), axis=1)\n",
    "print(test_pred)"
   ]
  },
  {
   "cell_type": "code",
   "execution_count": 19,
   "id": "38970d76",
   "metadata": {
    "ExecuteTime": {
     "end_time": "2022-07-18T14:28:52.920795Z",
     "start_time": "2022-07-18T14:28:52.529841Z"
    },
    "execution": {
     "iopub.execute_input": "2022-07-19T07:42:59.443326Z",
     "iopub.status.busy": "2022-07-19T07:42:59.442637Z",
     "iopub.status.idle": "2022-07-19T07:42:59.844260Z",
     "shell.execute_reply": "2022-07-19T07:42:59.843071Z"
    },
    "papermill": {
     "duration": 0.52016,
     "end_time": "2022-07-19T07:42:59.846764",
     "exception": false,
     "start_time": "2022-07-19T07:42:59.326604",
     "status": "completed"
    },
    "tags": []
   },
   "outputs": [
    {
     "data": {
      "image/png": "[encoded data removed]",
      "text/plain": [
       "<Figure size 864x432 with 2 Axes>"
      ]
     },
     "metadata": {},
     "output_type": "display_data"
    }
   ],
   "source": [
    "history1 = history.history\n",
    "\n",
    "trg_loss = history1['loss']\n",
    "val_loss = history1['val_loss']\n",
    "\n",
    "trg_acc = history1['accuracy']\n",
    "val_acc = history1['val_accuracy']\n",
    "\n",
    "epochs = range(1, len(trg_acc) + 1)\n",
    "\n",
    "# plot losses and accuracies for training and validation \n",
    "fig = plt.figure(figsize=(12,6))\n",
    "ax = fig.add_subplot(1, 2, 1)\n",
    "plt.plot(epochs, trg_loss, marker='o', label='Training Loss')\n",
    "plt.plot(epochs, val_loss, marker='x', label='Validation Loss')\n",
    "plt.title(\"Training / Validation Loss\")\n",
    "ax.set_ylabel(\"Loss\")\n",
    "ax.set_xlabel(\"Epochs\")\n",
    "plt.legend(loc='best')\n",
    "\n",
    "ax = fig.add_subplot(1, 2, 2)\n",
    "plt.plot(epochs, trg_acc, marker='o', label='Training Accuracy')\n",
    "plt.plot(epochs, val_acc, marker='^', label='Validation Accuracy')\n",
    "plt.title(\"Training / Validation Accuracy\")\n",
    "ax.set_ylabel(\"Accuracy\")\n",
    "ax.set_xlabel(\"Epochs\")\n",
    "plt.legend(loc='best')\n",
    "plt.show()"
   ]
  },
  {
   "cell_type": "markdown",
   "id": "58f96da4",
   "metadata": {
    "papermill": {
     "duration": 0.117938,
     "end_time": "2022-07-19T07:43:00.083118",
     "exception": false,
     "start_time": "2022-07-19T07:42:59.965180",
     "status": "completed"
    },
    "tags": []
   },
   "source": [
    "model 2"
   ]
  },
  {
   "cell_type": "code",
   "execution_count": 20,
   "id": "6d443ff6",
   "metadata": {
    "ExecuteTime": {
     "end_time": "2022-07-18T14:33:53.354426Z",
     "start_time": "2022-07-18T14:33:53.025308Z"
    },
    "execution": {
     "iopub.execute_input": "2022-07-19T07:43:00.379779Z",
     "iopub.status.busy": "2022-07-19T07:43:00.379402Z",
     "iopub.status.idle": "2022-07-19T07:43:00.829575Z",
     "shell.execute_reply": "2022-07-19T07:43:00.828346Z"
    },
    "papermill": {
     "duration": 0.628912,
     "end_time": "2022-07-19T07:43:00.831898",
     "exception": false,
     "start_time": "2022-07-19T07:43:00.202986",
     "status": "completed"
    },
    "tags": []
   },
   "outputs": [
    {
     "name": "stdout",
     "output_type": "stream",
     "text": [
      "Model: \"sequential_1\"\n",
      "_________________________________________________________________\n",
      "Layer (type)                 Output Shape              Param #   \n",
      "=================================================================\n",
      "embedding_1 (Embedding)      (None, 141, 16)           223152    \n",
      "_________________________________________________________________\n",
      "bidirectional_1 (Bidirection (None, 141, 512)          420864    \n",
      "_________________________________________________________________\n",
      "global_max_pooling1d_1 (Glob (None, 512)               0         \n",
      "_________________________________________________________________\n",
      "dense_2 (Dense)              (None, 64)                32832     \n",
      "_________________________________________________________________\n",
      "dropout_1 (Dropout)          (None, 64)                0         \n",
      "_________________________________________________________________\n",
      "dense_3 (Dense)              (None, 2)                 130       \n",
      "=================================================================\n",
      "Total params: 676,978\n",
      "Trainable params: 676,978\n",
      "Non-trainable params: 0\n",
      "_________________________________________________________________\n"
     ]
    }
   ],
   "source": [
    "epoch_size =10\n",
    "batch_size = 32\n",
    "embedding_dim = 16\n",
    "optimizer = optimizers.Adam(lr=3e-4)\n",
    "\n",
    "model2 = Sequential([\n",
    "    layers.Embedding(vocab_size, embedding_dim, input_length=max_len),\n",
    "    layers.Bidirectional(layers.GRU(256, return_sequences=True)),\n",
    "    layers.GlobalMaxPool1D(),\n",
    "#     layers.Dense(128, activation='relu'),\n",
    "#     layers.Dropout(0.4),\n",
    "    layers.Dense(64, activation='relu'),\n",
    "    layers.Dropout(0.4),\n",
    "    layers.Dense(2, activation='sigmoid')\n",
    "])\n",
    "model2.summary()"
   ]
  },
  {
   "cell_type": "code",
   "execution_count": 21,
   "id": "3116329a",
   "metadata": {
    "ExecuteTime": {
     "end_time": "2022-07-18T14:46:12.432698Z",
     "start_time": "2022-07-18T14:33:53.497072Z"
    },
    "execution": {
     "iopub.execute_input": "2022-07-19T07:43:01.067850Z",
     "iopub.status.busy": "2022-07-19T07:43:01.067157Z",
     "iopub.status.idle": "2022-07-19T07:56:03.201777Z",
     "shell.execute_reply": "2022-07-19T07:56:03.200340Z"
    },
    "papermill": {
     "duration": 782.255556,
     "end_time": "2022-07-19T07:56:03.204790",
     "exception": false,
     "start_time": "2022-07-19T07:43:00.949234",
     "status": "completed"
    },
    "tags": []
   },
   "outputs": [
    {
     "name": "stdout",
     "output_type": "stream",
     "text": [
      "Epoch 1/10\n",
      "215/215 [==============================] - 83s 367ms/step - loss: 0.7093 - accuracy: 0.6317 - val_loss: 0.4671 - val_accuracy: 0.7979\n",
      "Epoch 2/10\n",
      "215/215 [==============================] - 77s 359ms/step - loss: 0.4016 - accuracy: 0.8415 - val_loss: 0.4557 - val_accuracy: 0.7874\n",
      "Epoch 3/10\n",
      "215/215 [==============================] - 79s 367ms/step - loss: 0.2534 - accuracy: 0.9066 - val_loss: 0.4818 - val_accuracy: 0.7717\n",
      "Epoch 4/10\n",
      "215/215 [==============================] - 78s 362ms/step - loss: 0.1720 - accuracy: 0.9393 - val_loss: 0.5971 - val_accuracy: 0.7559\n",
      "Epoch 5/10\n",
      "215/215 [==============================] - 77s 356ms/step - loss: 0.1231 - accuracy: 0.9594 - val_loss: 0.7850 - val_accuracy: 0.7415\n",
      "Epoch 6/10\n",
      "215/215 [==============================] - 77s 360ms/step - loss: 0.0935 - accuracy: 0.9656 - val_loss: 0.7971 - val_accuracy: 0.7743\n",
      "Epoch 7/10\n",
      "215/215 [==============================] - 79s 366ms/step - loss: 0.0818 - accuracy: 0.9680 - val_loss: 0.8252 - val_accuracy: 0.7454\n",
      "Epoch 8/10\n",
      "215/215 [==============================] - 78s 364ms/step - loss: 0.0707 - accuracy: 0.9698 - val_loss: 1.1186 - val_accuracy: 0.7612\n",
      "Epoch 9/10\n",
      "215/215 [==============================] - 78s 361ms/step - loss: 0.0583 - accuracy: 0.9739 - val_loss: 1.2462 - val_accuracy: 0.7454\n",
      "Epoch 10/10\n",
      "215/215 [==============================] - 77s 360ms/step - loss: 0.0520 - accuracy: 0.9755 - val_loss: 1.2387 - val_accuracy: 0.7441\n"
     ]
    }
   ],
   "source": [
    "model2.compile(loss='sparse_categorical_crossentropy', optimizer = 'adam', metrics=['accuracy'])\n",
    "history = model2.fit(x, y, epochs=epoch_size, validation_split=0.1)"
   ]
  },
  {
   "cell_type": "code",
   "execution_count": 22,
   "id": "1c3fd6bc",
   "metadata": {
    "ExecuteTime": {
     "end_time": "2022-07-18T14:46:18.284096Z",
     "start_time": "2022-07-18T14:46:12.464618Z"
    },
    "execution": {
     "iopub.execute_input": "2022-07-19T07:56:03.653361Z",
     "iopub.status.busy": "2022-07-19T07:56:03.652650Z",
     "iopub.status.idle": "2022-07-19T07:56:15.131629Z",
     "shell.execute_reply": "2022-07-19T07:56:15.130160Z"
    },
    "papermill": {
     "duration": 11.706441,
     "end_time": "2022-07-19T07:56:15.134217",
     "exception": false,
     "start_time": "2022-07-19T07:56:03.427776",
     "status": "completed"
    },
    "tags": []
   },
   "outputs": [
    {
     "name": "stdout",
     "output_type": "stream",
     "text": [
      "[1 0 1 ... 1 1 1]\n"
     ]
    }
   ],
   "source": [
    "test_pred = np.argmax(model2.predict(test_x), axis=1)\n",
    "print(test_pred)"
   ]
  },
  {
   "cell_type": "code",
   "execution_count": 23,
   "id": "d3dc6fec",
   "metadata": {
    "ExecuteTime": {
     "end_time": "2022-07-18T14:46:18.703051Z",
     "start_time": "2022-07-18T14:46:18.315014Z"
    },
    "execution": {
     "iopub.execute_input": "2022-07-19T07:56:15.591993Z",
     "iopub.status.busy": "2022-07-19T07:56:15.591041Z",
     "iopub.status.idle": "2022-07-19T07:56:15.994083Z",
     "shell.execute_reply": "2022-07-19T07:56:15.992923Z"
    },
    "papermill": {
     "duration": 0.632227,
     "end_time": "2022-07-19T07:56:15.996630",
     "exception": false,
     "start_time": "2022-07-19T07:56:15.364403",
     "status": "completed"
    },
    "scrolled": true,
    "tags": []
   },
   "outputs": [
    {
     "data": {
      "image/png": "[encoded data removed]",
      "text/plain": [
       "<Figure size 864x432 with 2 Axes>"
      ]
     },
     "metadata": {},
     "output_type": "display_data"
    }
   ],
   "source": [
    "history2 = history.history\n",
    "\n",
    "trg_loss = history2['loss']\n",
    "val_loss = history2['val_loss']\n",
    "\n",
    "trg_acc = history2['accuracy']\n",
    "val_acc = history2['val_accuracy']\n",
    "\n",
    "epochs = range(1, len(trg_acc) + 1)\n",
    "\n",
    "# plot losses and accuracies for training and validation \n",
    "fig = plt.figure(figsize=(12,6))\n",
    "ax = fig.add_subplot(1, 2, 1)\n",
    "plt.plot(epochs, trg_loss, marker='o', label='Training Loss')\n",
    "plt.plot(epochs, val_loss, marker='x', label='Validation Loss')\n",
    "plt.title(\"Training / Validation Loss\")\n",
    "ax.set_ylabel(\"Loss\")\n",
    "ax.set_xlabel(\"Epochs\")\n",
    "plt.legend(loc='best')\n",
    "\n",
    "ax = fig.add_subplot(1, 2, 2)\n",
    "plt.plot(epochs, trg_acc, marker='o', label='Training Accuracy')\n",
    "plt.plot(epochs, val_acc, marker='^', label='Validation Accuracy')\n",
    "plt.title(\"Training / Validation Accuracy\")\n",
    "ax.set_ylabel(\"Accuracy\")\n",
    "ax.set_xlabel(\"Epochs\")\n",
    "plt.legend(loc='best')\n",
    "plt.show()"
   ]
  },
  {
   "cell_type": "markdown",
   "id": "896986bf",
   "metadata": {
    "papermill": {
     "duration": 0.227376,
     "end_time": "2022-07-19T07:56:16.504546",
     "exception": false,
     "start_time": "2022-07-19T07:56:16.277170",
     "status": "completed"
    },
    "tags": []
   },
   "source": [
    "model 3"
   ]
  },
  {
   "cell_type": "code",
   "execution_count": 24,
   "id": "e4874a49",
   "metadata": {
    "ExecuteTime": {
     "end_time": "2022-07-18T15:11:22.714711Z",
     "start_time": "2022-07-18T15:11:22.408534Z"
    },
    "execution": {
     "iopub.execute_input": "2022-07-19T07:56:16.962599Z",
     "iopub.status.busy": "2022-07-19T07:56:16.961641Z",
     "iopub.status.idle": "2022-07-19T07:56:17.447480Z",
     "shell.execute_reply": "2022-07-19T07:56:17.446151Z"
    },
    "papermill": {
     "duration": 0.718129,
     "end_time": "2022-07-19T07:56:17.451221",
     "exception": false,
     "start_time": "2022-07-19T07:56:16.733092",
     "status": "completed"
    },
    "tags": []
   },
   "outputs": [
    {
     "name": "stdout",
     "output_type": "stream",
     "text": [
      "Model: \"sequential_2\"\n",
      "_________________________________________________________________\n",
      "Layer (type)                 Output Shape              Param #   \n",
      "=================================================================\n",
      "embedding_2 (Embedding)      (None, 141, 16)           223152    \n",
      "_________________________________________________________________\n",
      "spatial_dropout1d (SpatialDr (None, 141, 16)           0         \n",
      "_________________________________________________________________\n",
      "bidirectional_2 (Bidirection (None, 141, 128)          41472     \n",
      "_________________________________________________________________\n",
      "bidirectional_3 (Bidirection (None, 128)               98816     \n",
      "_________________________________________________________________\n",
      "dense_4 (Dense)              (None, 64)                8256      \n",
      "_________________________________________________________________\n",
      "dense_5 (Dense)              (None, 2)                 130       \n",
      "=================================================================\n",
      "Total params: 371,826\n",
      "Trainable params: 148,674\n",
      "Non-trainable params: 223,152\n",
      "_________________________________________________________________\n"
     ]
    }
   ],
   "source": [
    "epoch_size =10\n",
    "batch_size = 32\n",
    "embedding_dim = 16\n",
    "optimizer = optimizers.Adam(lr=3e-4)\n",
    "\n",
    "model3 = Sequential([\n",
    "    layers.Embedding(vocab_size, embedding_dim, input_length=max_len, trainable=False),\n",
    "    layers.SpatialDropout1D(0.2),\n",
    "\n",
    "    layers.Bidirectional(layers.LSTM(64, recurrent_dropout=0.5, dropout=0.5, return_sequences=True)),\n",
    "    layers.Bidirectional(layers.LSTM(64, recurrent_dropout=0.5, dropout=0.5)),\n",
    "\n",
    "    layers.Dense(64, activation='relu'),\n",
    "    layers.Dense(2, activation='sigmoid')\n",
    "])\n",
    "model3.summary()"
   ]
  },
  {
   "cell_type": "code",
   "execution_count": 25,
   "id": "b5ab2754",
   "metadata": {
    "ExecuteTime": {
     "end_time": "2022-07-18T15:23:02.964812Z",
     "start_time": "2022-07-18T15:11:23.705069Z"
    },
    "execution": {
     "iopub.execute_input": "2022-07-19T07:56:17.903524Z",
     "iopub.status.busy": "2022-07-19T07:56:17.902790Z",
     "iopub.status.idle": "2022-07-19T08:36:22.871827Z",
     "shell.execute_reply": "2022-07-19T08:36:22.870648Z"
    },
    "papermill": {
     "duration": 2405.196576,
     "end_time": "2022-07-19T08:36:22.875286",
     "exception": false,
     "start_time": "2022-07-19T07:56:17.678710",
     "status": "completed"
    },
    "tags": []
   },
   "outputs": [
    {
     "name": "stdout",
     "output_type": "stream",
     "text": [
      "Epoch 1/10\n",
      "215/215 [==============================] - 254s 1s/step - loss: 0.6821 - accuracy: 0.5742 - val_loss: 0.6972 - val_accuracy: 0.5341\n",
      "Epoch 2/10\n",
      "215/215 [==============================] - 242s 1s/step - loss: 0.6811 - accuracy: 0.5744 - val_loss: 0.6889 - val_accuracy: 0.5341\n",
      "Epoch 3/10\n",
      "215/215 [==============================] - 239s 1s/step - loss: 0.6783 - accuracy: 0.5747 - val_loss: 0.6907 - val_accuracy: 0.5341\n",
      "Epoch 4/10\n",
      "215/215 [==============================] - 238s 1s/step - loss: 0.6755 - accuracy: 0.5733 - val_loss: 0.6855 - val_accuracy: 0.5341\n",
      "Epoch 5/10\n",
      "215/215 [==============================] - 240s 1s/step - loss: 0.6771 - accuracy: 0.5758 - val_loss: 0.6833 - val_accuracy: 0.5328\n",
      "Epoch 6/10\n",
      "215/215 [==============================] - 241s 1s/step - loss: 0.6748 - accuracy: 0.5720 - val_loss: 0.6823 - val_accuracy: 0.5341\n",
      "Epoch 7/10\n",
      "215/215 [==============================] - 238s 1s/step - loss: 0.6752 - accuracy: 0.5732 - val_loss: 0.6823 - val_accuracy: 0.5341\n",
      "Epoch 8/10\n",
      "215/215 [==============================] - 238s 1s/step - loss: 0.6736 - accuracy: 0.5741 - val_loss: 0.6860 - val_accuracy: 0.5341\n",
      "Epoch 9/10\n",
      "215/215 [==============================] - 238s 1s/step - loss: 0.6723 - accuracy: 0.5729 - val_loss: 0.6835 - val_accuracy: 0.5341\n",
      "Epoch 10/10\n",
      "215/215 [==============================] - 238s 1s/step - loss: 0.6727 - accuracy: 0.5733 - val_loss: 0.6800 - val_accuracy: 0.5328\n"
     ]
    }
   ],
   "source": [
    "model3.compile(loss='sparse_categorical_crossentropy', optimizer = optimizer, metrics=['accuracy'])\n",
    "history = model3.fit(x, y, epochs=epoch_size, validation_split=0.1)"
   ]
  },
  {
   "cell_type": "code",
   "execution_count": 26,
   "id": "5bcfa852",
   "metadata": {
    "ExecuteTime": {
     "end_time": "2022-07-18T15:23:08.560844Z",
     "start_time": "2022-07-18T15:23:02.995729Z"
    },
    "execution": {
     "iopub.execute_input": "2022-07-19T08:36:23.601728Z",
     "iopub.status.busy": "2022-07-19T08:36:23.601212Z",
     "iopub.status.idle": "2022-07-19T08:36:53.729922Z",
     "shell.execute_reply": "2022-07-19T08:36:53.728689Z"
    },
    "papermill": {
     "duration": 30.793246,
     "end_time": "2022-07-19T08:36:54.063525",
     "exception": false,
     "start_time": "2022-07-19T08:36:23.270279",
     "status": "completed"
    },
    "tags": []
   },
   "outputs": [
    {
     "name": "stdout",
     "output_type": "stream",
     "text": [
      "[0 0 0 ... 0 0 0]\n"
     ]
    }
   ],
   "source": [
    "test_pred = np.argmax(model3.predict(test_x), axis=1)\n",
    "print(test_pred)"
   ]
  },
  {
   "cell_type": "code",
   "execution_count": 27,
   "id": "78dcfba3",
   "metadata": {
    "ExecuteTime": {
     "end_time": "2022-07-18T15:23:09.504321Z",
     "start_time": "2022-07-18T15:23:08.591762Z"
    },
    "execution": {
     "iopub.execute_input": "2022-07-19T08:36:54.815766Z",
     "iopub.status.busy": "2022-07-19T08:36:54.815033Z",
     "iopub.status.idle": "2022-07-19T08:36:55.208941Z",
     "shell.execute_reply": "2022-07-19T08:36:55.207518Z"
    },
    "papermill": {
     "duration": 0.809759,
     "end_time": "2022-07-19T08:36:55.211501",
     "exception": false,
     "start_time": "2022-07-19T08:36:54.401742",
     "status": "completed"
    },
    "tags": []
   },
   "outputs": [
    {
     "data": {
      "image/png": "[encoded data removed]",
      "text/plain": [
       "<Figure size 864x432 with 2 Axes>"
      ]
     },
     "metadata": {},
     "output_type": "display_data"
    }
   ],
   "source": [
    "history3 = history.history\n",
    "\n",
    "trg_loss = history3['loss']\n",
    "val_loss = history3['val_loss']\n",
    "\n",
    "trg_acc = history3['accuracy']\n",
    "val_acc = history3['val_accuracy']\n",
    "\n",
    "epochs = range(1, len(trg_acc) + 1)\n",
    "\n",
    "# plot losses and accuracies for training and validation \n",
    "fig = plt.figure(figsize=(12,6))\n",
    "ax = fig.add_subplot(1, 2, 1)\n",
    "plt.plot(epochs, trg_loss, marker='o', label='Training Loss')\n",
    "plt.plot(epochs, val_loss, marker='x', label='Validation Loss')\n",
    "plt.title(\"Training / Validation Loss\")\n",
    "ax.set_ylabel(\"Loss\")\n",
    "ax.set_xlabel(\"Epochs\")\n",
    "plt.legend(loc='best')\n",
    "\n",
    "ax = fig.add_subplot(1, 2, 2)\n",
    "plt.plot(epochs, trg_acc, marker='o', label='Training Accuracy')\n",
    "plt.plot(epochs, val_acc, marker='^', label='Validation Accuracy')\n",
    "plt.title(\"Training / Validation Accuracy\")\n",
    "ax.set_ylabel(\"Accuracy\")\n",
    "ax.set_xlabel(\"Epochs\")\n",
    "plt.legend(loc='best')\n",
    "plt.show()"
   ]
  },
  {
   "cell_type": "markdown",
   "id": "d7d6f690",
   "metadata": {
    "papermill": {
     "duration": 0.328997,
     "end_time": "2022-07-19T08:36:55.895899",
     "exception": false,
     "start_time": "2022-07-19T08:36:55.566902",
     "status": "completed"
    },
    "tags": []
   },
   "source": [
    "model 4"
   ]
  },
  {
   "cell_type": "code",
   "execution_count": 28,
   "id": "98d703f5",
   "metadata": {
    "ExecuteTime": {
     "end_time": "2022-07-18T16:12:14.006672Z",
     "start_time": "2022-07-18T16:12:13.661435Z"
    },
    "execution": {
     "iopub.execute_input": "2022-07-19T08:36:56.624661Z",
     "iopub.status.busy": "2022-07-19T08:36:56.623910Z",
     "iopub.status.idle": "2022-07-19T08:36:57.085362Z",
     "shell.execute_reply": "2022-07-19T08:36:57.083979Z"
    },
    "papermill": {
     "duration": 0.860604,
     "end_time": "2022-07-19T08:36:57.087744",
     "exception": false,
     "start_time": "2022-07-19T08:36:56.227140",
     "status": "completed"
    },
    "tags": []
   },
   "outputs": [
    {
     "name": "stdout",
     "output_type": "stream",
     "text": [
      "Model: \"sequential_3\"\n",
      "_________________________________________________________________\n",
      "Layer (type)                 Output Shape              Param #   \n",
      "=================================================================\n",
      "embedding_3 (Embedding)      (None, 141, 16)           223152    \n",
      "_________________________________________________________________\n",
      "bidirectional_4 (Bidirection (None, 141, 512)          420864    \n",
      "_________________________________________________________________\n",
      "global_max_pooling1d_2 (Glob (None, 512)               0         \n",
      "_________________________________________________________________\n",
      "dense_6 (Dense)              (None, 128)               65664     \n",
      "_________________________________________________________________\n",
      "dropout_2 (Dropout)          (None, 128)               0         \n",
      "_________________________________________________________________\n",
      "dense_7 (Dense)              (None, 64)                8256      \n",
      "_________________________________________________________________\n",
      "dropout_3 (Dropout)          (None, 64)                0         \n",
      "_________________________________________________________________\n",
      "dense_8 (Dense)              (None, 2)                 130       \n",
      "=================================================================\n",
      "Total params: 718,066\n",
      "Trainable params: 718,066\n",
      "Non-trainable params: 0\n",
      "_________________________________________________________________\n"
     ]
    }
   ],
   "source": [
    "epoch_size =10\n",
    "batch_size = 32\n",
    "embedding_dim = 16\n",
    "optimizer = optimizers.Adam(lr=3e-4)\n",
    "\n",
    "model4 = Sequential([\n",
    "    layers.Embedding(vocab_size, embedding_dim, input_length=max_len),\n",
    "    layers.Bidirectional(layers.GRU(256, return_sequences=True)),\n",
    "    layers.GlobalMaxPool1D(),\n",
    "    layers.Dense(128, activation='relu'),\n",
    "    layers.Dropout(0.4),\n",
    "    layers.Dense(64, activation='relu'),\n",
    "    layers.Dropout(0.4),\n",
    "    layers.Dense(2, activation='sigmoid')\n",
    "])\n",
    "model4.summary()"
   ]
  },
  {
   "cell_type": "code",
   "execution_count": 29,
   "id": "2f3ca0a9",
   "metadata": {
    "ExecuteTime": {
     "start_time": "2022-07-18T16:12:13.930Z"
    },
    "execution": {
     "iopub.execute_input": "2022-07-19T08:36:57.746760Z",
     "iopub.status.busy": "2022-07-19T08:36:57.746102Z",
     "iopub.status.idle": "2022-07-19T08:48:54.120385Z",
     "shell.execute_reply": "2022-07-19T08:48:54.119480Z"
    },
    "papermill": {
     "duration": 716.706106,
     "end_time": "2022-07-19T08:48:54.122881",
     "exception": false,
     "start_time": "2022-07-19T08:36:57.416775",
     "status": "completed"
    },
    "tags": []
   },
   "outputs": [
    {
     "name": "stdout",
     "output_type": "stream",
     "text": [
      "Epoch 1/10\n",
      "191/191 [==============================] - 76s 380ms/step - loss: 0.6804 - accuracy: 0.5782 - val_loss: 0.6750 - val_accuracy: 0.5345\n",
      "Epoch 2/10\n",
      "191/191 [==============================] - 71s 374ms/step - loss: 0.5047 - accuracy: 0.7658 - val_loss: 0.4912 - val_accuracy: 0.7794\n",
      "Epoch 3/10\n",
      "191/191 [==============================] - 71s 372ms/step - loss: 0.3472 - accuracy: 0.8750 - val_loss: 0.5247 - val_accuracy: 0.7406\n",
      "Epoch 4/10\n",
      "191/191 [==============================] - 71s 372ms/step - loss: 0.2397 - accuracy: 0.9138 - val_loss: 0.5561 - val_accuracy: 0.7380\n",
      "Epoch 5/10\n",
      "191/191 [==============================] - 71s 374ms/step - loss: 0.1667 - accuracy: 0.9435 - val_loss: 0.6465 - val_accuracy: 0.7485\n",
      "Epoch 6/10\n",
      "191/191 [==============================] - 71s 371ms/step - loss: 0.1359 - accuracy: 0.9544 - val_loss: 0.7128 - val_accuracy: 0.7295\n",
      "Epoch 7/10\n",
      "191/191 [==============================] - 71s 374ms/step - loss: 0.1127 - accuracy: 0.9622 - val_loss: 0.7951 - val_accuracy: 0.7058\n",
      "Epoch 8/10\n",
      "191/191 [==============================] - 72s 375ms/step - loss: 0.0969 - accuracy: 0.9655 - val_loss: 0.9486 - val_accuracy: 0.6999\n",
      "Epoch 9/10\n",
      "191/191 [==============================] - 70s 369ms/step - loss: 0.0888 - accuracy: 0.9698 - val_loss: 0.9177 - val_accuracy: 0.7328\n",
      "Epoch 10/10\n",
      "191/191 [==============================] - 71s 372ms/step - loss: 0.0801 - accuracy: 0.9695 - val_loss: 0.9209 - val_accuracy: 0.7177\n"
     ]
    }
   ],
   "source": [
    "model4.compile(loss='sparse_categorical_crossentropy', optimizer = optimizer, metrics=['accuracy'])\n",
    "history = model4.fit(x, y, epochs=epoch_size, validation_split=0.2)"
   ]
  },
  {
   "cell_type": "code",
   "execution_count": 30,
   "id": "da4a2dce",
   "metadata": {
    "ExecuteTime": {
     "start_time": "2022-07-18T16:12:14.194Z"
    },
    "execution": {
     "iopub.execute_input": "2022-07-19T08:48:54.984028Z",
     "iopub.status.busy": "2022-07-19T08:48:54.982913Z",
     "iopub.status.idle": "2022-07-19T08:49:05.720943Z",
     "shell.execute_reply": "2022-07-19T08:49:05.719657Z"
    },
    "papermill": {
     "duration": 11.174317,
     "end_time": "2022-07-19T08:49:05.723114",
     "exception": false,
     "start_time": "2022-07-19T08:48:54.548797",
     "status": "completed"
    },
    "tags": []
   },
   "outputs": [
    {
     "name": "stdout",
     "output_type": "stream",
     "text": [
      "[1 0 1 ... 1 1 1]\n"
     ]
    }
   ],
   "source": [
    "test_pred = np.argmax(model2.predict(test_x), axis=1)\n",
    "print(test_pred)"
   ]
  },
  {
   "cell_type": "code",
   "execution_count": 31,
   "id": "329ec0fa",
   "metadata": {
    "ExecuteTime": {
     "start_time": "2022-07-18T16:12:14.595Z"
    },
    "execution": {
     "iopub.execute_input": "2022-07-19T08:49:06.651721Z",
     "iopub.status.busy": "2022-07-19T08:49:06.650749Z",
     "iopub.status.idle": "2022-07-19T08:49:06.991705Z",
     "shell.execute_reply": "2022-07-19T08:49:06.990543Z"
    },
    "papermill": {
     "duration": 0.770987,
     "end_time": "2022-07-19T08:49:06.994339",
     "exception": false,
     "start_time": "2022-07-19T08:49:06.223352",
     "status": "completed"
    },
    "tags": []
   },
   "outputs": [
    {
     "data": {
      "image/png": "[encoded data removed]",
      "text/plain": [
       "<Figure size 864x432 with 2 Axes>"
      ]
     },
     "metadata": {},
     "output_type": "display_data"
    }
   ],
   "source": [
    "history4 = history.history\n",
    "\n",
    "trg_loss = history4['loss']\n",
    "val_loss = history4['val_loss']\n",
    "\n",
    "trg_acc = history4['accuracy']\n",
    "val_acc = history4['val_accuracy']\n",
    "\n",
    "epochs = range(1, len(trg_acc) + 1)\n",
    "\n",
    "# plot losses and accuracies for training and validation \n",
    "fig = plt.figure(figsize=(12,6))\n",
    "ax = fig.add_subplot(1, 2, 1)\n",
    "plt.plot(epochs, trg_loss, marker='o', label='Training Loss')\n",
    "plt.plot(epochs, val_loss, marker='x', label='Validation Loss')\n",
    "plt.title(\"Training / Validation Loss\")\n",
    "ax.set_ylabel(\"Loss\")\n",
    "ax.set_xlabel(\"Epochs\")\n",
    "plt.legend(loc='best')\n",
    "\n",
    "ax = fig.add_subplot(1, 2, 2)\n",
    "plt.plot(epochs, trg_acc, marker='o', label='Training Accuracy')\n",
    "plt.plot(epochs, val_acc, marker='^', label='Validation Accuracy')\n",
    "plt.title(\"Training / Validation Accuracy\")\n",
    "ax.set_ylabel(\"Accuracy\")\n",
    "ax.set_xlabel(\"Epochs\")\n",
    "plt.legend(loc='best')\n",
    "plt.show()"
   ]
  },
  {
   "cell_type": "markdown",
   "id": "4c715b3d",
   "metadata": {
    "papermill": {
     "duration": 0.489116,
     "end_time": "2022-07-19T08:49:07.909694",
     "exception": false,
     "start_time": "2022-07-19T08:49:07.420578",
     "status": "completed"
    },
    "tags": []
   },
   "source": [
    "model5"
   ]
  },
  {
   "cell_type": "code",
   "execution_count": 32,
   "id": "84dafaa4",
   "metadata": {
    "execution": {
     "iopub.execute_input": "2022-07-19T08:49:08.763605Z",
     "iopub.status.busy": "2022-07-19T08:49:08.762846Z",
     "iopub.status.idle": "2022-07-19T08:49:18.633029Z",
     "shell.execute_reply": "2022-07-19T08:49:18.631666Z"
    },
    "papermill": {
     "duration": 10.300642,
     "end_time": "2022-07-19T08:49:18.635670",
     "exception": false,
     "start_time": "2022-07-19T08:49:08.335028",
     "status": "completed"
    },
    "tags": []
   },
   "outputs": [],
   "source": [
    "embeddings_dictionary = dict()\n",
    "embedding_dim = 100\n",
    "glove_file = open('../input/glove6b100dtxt/glove.6B.100d.txt', encoding='UTF8')\n",
    "for line in glove_file:\n",
    "    records = line.split()\n",
    "    word = records[0]\n",
    "    vector_dimensions = np.asarray(records[1:], dtype='float32')\n",
    "    embeddings_dictionary [word] = vector_dimensions\n",
    "glove_file.close()"
   ]
  },
  {
   "cell_type": "code",
   "execution_count": 33,
   "id": "8ebcf03d",
   "metadata": {
    "execution": {
     "iopub.execute_input": "2022-07-19T08:49:19.572530Z",
     "iopub.status.busy": "2022-07-19T08:49:19.572104Z",
     "iopub.status.idle": "2022-07-19T08:49:19.603888Z",
     "shell.execute_reply": "2022-07-19T08:49:19.603065Z"
    },
    "papermill": {
     "duration": 0.469213,
     "end_time": "2022-07-19T08:49:19.606219",
     "exception": false,
     "start_time": "2022-07-19T08:49:19.137006",
     "status": "completed"
    },
    "tags": []
   },
   "outputs": [],
   "source": [
    "embedding_matrix = np.zeros((vocab_size, embedding_dim))\n",
    "for word, index in tokenizer.word_index.items():\n",
    "    embedding_vector = embeddings_dictionary.get(word)\n",
    "    if embedding_vector is not None:\n",
    "        embedding_matrix[index] = embedding_vector"
   ]
  },
  {
   "cell_type": "code",
   "execution_count": 34,
   "id": "66ded9fc",
   "metadata": {
    "execution": {
     "iopub.execute_input": "2022-07-19T08:49:20.536671Z",
     "iopub.status.busy": "2022-07-19T08:49:20.535486Z",
     "iopub.status.idle": "2022-07-19T08:49:20.822152Z",
     "shell.execute_reply": "2022-07-19T08:49:20.821042Z"
    },
    "papermill": {
     "duration": 0.78866,
     "end_time": "2022-07-19T08:49:20.824646",
     "exception": false,
     "start_time": "2022-07-19T08:49:20.035986",
     "status": "completed"
    },
    "tags": []
   },
   "outputs": [
    {
     "name": "stdout",
     "output_type": "stream",
     "text": [
      "Model: \"sequential_4\"\n",
      "_________________________________________________________________\n",
      "Layer (type)                 Output Shape              Param #   \n",
      "=================================================================\n",
      "embedding_4 (Embedding)      (None, None, 100)         1394700   \n",
      "_________________________________________________________________\n",
      "bidirectional_5 (Bidirection (None, None, 128)         84480     \n",
      "_________________________________________________________________\n",
      "global_max_pooling1d_3 (Glob (None, 128)               0         \n",
      "_________________________________________________________________\n",
      "batch_normalization (BatchNo (None, 128)               512       \n",
      "_________________________________________________________________\n",
      "dropout_4 (Dropout)          (None, 128)               0         \n",
      "_________________________________________________________________\n",
      "dense_9 (Dense)              (None, 128)               16512     \n",
      "_________________________________________________________________\n",
      "dropout_5 (Dropout)          (None, 128)               0         \n",
      "_________________________________________________________________\n",
      "dense_10 (Dense)             (None, 64)                8256      \n",
      "_________________________________________________________________\n",
      "dropout_6 (Dropout)          (None, 64)                0         \n",
      "_________________________________________________________________\n",
      "dense_11 (Dense)             (None, 1)                 65        \n",
      "=================================================================\n",
      "Total params: 1,504,525\n",
      "Trainable params: 1,504,269\n",
      "Non-trainable params: 256\n",
      "_________________________________________________________________\n"
     ]
    }
   ],
   "source": [
    "from tensorflow.keras.layers import LSTM\n",
    "epoch_size =10\n",
    "batch_size = 32\n",
    "# embedding_dim = 16\n",
    "\n",
    "model5 = Sequential([\n",
    "    layers.Embedding(input_dim=embedding_matrix.shape[0], \n",
    "                        output_dim=embedding_matrix.shape[1], \n",
    "                        weights = [embedding_matrix]\n",
    "                        ),\n",
    "    layers.Bidirectional(LSTM(64, return_sequences = True, recurrent_dropout=0.2)),\n",
    "    layers.GlobalMaxPool1D(),\n",
    "    layers.BatchNormalization(),\n",
    "    layers.Dropout(0.5),\n",
    "    layers.Dense(128, activation='relu'),\n",
    "    layers.Dropout(0.5),\n",
    "    layers.Dense(64, activation='relu'),\n",
    "    layers.Dropout(0.5),\n",
    "    layers.Dense(1, activation='sigmoid')\n",
    "])\n",
    "model5.summary()"
   ]
  },
  {
   "cell_type": "code",
   "execution_count": 35,
   "id": "a8c41587",
   "metadata": {
    "execution": {
     "iopub.execute_input": "2022-07-19T08:49:21.694569Z",
     "iopub.status.busy": "2022-07-19T08:49:21.694193Z",
     "iopub.status.idle": "2022-07-19T09:09:17.426944Z",
     "shell.execute_reply": "2022-07-19T09:09:17.425674Z"
    },
    "papermill": {
     "duration": 1196.168379,
     "end_time": "2022-07-19T09:09:17.430004",
     "exception": false,
     "start_time": "2022-07-19T08:49:21.261625",
     "status": "completed"
    },
    "tags": []
   },
   "outputs": [
    {
     "name": "stdout",
     "output_type": "stream",
     "text": [
      "Epoch 1/10\n",
      "191/191 [==============================] - 127s 629ms/step - loss: 0.8860 - accuracy: 0.5453 - val_loss: 0.6503 - val_accuracy: 0.7255\n",
      "Epoch 2/10\n",
      "191/191 [==============================] - 118s 620ms/step - loss: 0.7429 - accuracy: 0.6146 - val_loss: 0.5620 - val_accuracy: 0.7715\n",
      "Epoch 3/10\n",
      "191/191 [==============================] - 119s 623ms/step - loss: 0.6883 - accuracy: 0.6491 - val_loss: 0.4975 - val_accuracy: 0.7853\n",
      "Epoch 4/10\n",
      "191/191 [==============================] - 119s 625ms/step - loss: 0.6294 - accuracy: 0.6916 - val_loss: 0.4732 - val_accuracy: 0.7938\n",
      "Epoch 5/10\n",
      "191/191 [==============================] - 119s 626ms/step - loss: 0.5978 - accuracy: 0.7103 - val_loss: 0.4616 - val_accuracy: 0.7951\n",
      "Epoch 6/10\n",
      "191/191 [==============================] - 118s 618ms/step - loss: 0.5952 - accuracy: 0.7197 - val_loss: 0.4536 - val_accuracy: 0.7925\n",
      "Epoch 7/10\n",
      "191/191 [==============================] - 120s 628ms/step - loss: 0.5647 - accuracy: 0.7307 - val_loss: 0.4469 - val_accuracy: 0.7997\n",
      "Epoch 8/10\n",
      "191/191 [==============================] - 119s 624ms/step - loss: 0.5467 - accuracy: 0.7488 - val_loss: 0.4420 - val_accuracy: 0.8037\n",
      "Epoch 9/10\n",
      "191/191 [==============================] - 118s 618ms/step - loss: 0.5356 - accuracy: 0.7548 - val_loss: 0.4379 - val_accuracy: 0.8043\n",
      "Epoch 10/10\n",
      "191/191 [==============================] - 117s 615ms/step - loss: 0.5223 - accuracy: 0.7714 - val_loss: 0.4352 - val_accuracy: 0.8070\n"
     ]
    }
   ],
   "source": [
    "from tensorflow.keras.optimizers import RMSprop\n",
    "model5.compile(loss='binary_crossentropy', optimizer = RMSprop(learning_rate=0.0001), metrics=['accuracy'])\n",
    "history5 = model5.fit(x, y, epochs=epoch_size, validation_split=0.2)"
   ]
  },
  {
   "cell_type": "code",
   "execution_count": 36,
   "id": "de02610c",
   "metadata": {
    "execution": {
     "iopub.execute_input": "2022-07-19T09:09:18.545839Z",
     "iopub.status.busy": "2022-07-19T09:09:18.545153Z",
     "iopub.status.idle": "2022-07-19T09:09:35.477571Z",
     "shell.execute_reply": "2022-07-19T09:09:35.476716Z"
    },
    "papermill": {
     "duration": 17.531097,
     "end_time": "2022-07-19T09:09:35.479962",
     "exception": false,
     "start_time": "2022-07-19T09:09:17.948865",
     "status": "completed"
    },
    "tags": []
   },
   "outputs": [
    {
     "name": "stdout",
     "output_type": "stream",
     "text": [
      "[0 0 0 ... 0 0 0]\n"
     ]
    }
   ],
   "source": [
    "test_pred = np.argmax(model5.predict(test_x), axis=1)\n",
    "print(test_pred)"
   ]
  },
  {
   "cell_type": "code",
   "execution_count": 37,
   "id": "d68c5fed",
   "metadata": {
    "execution": {
     "iopub.execute_input": "2022-07-19T09:09:36.525181Z",
     "iopub.status.busy": "2022-07-19T09:09:36.524833Z",
     "iopub.status.idle": "2022-07-19T09:09:37.294268Z",
     "shell.execute_reply": "2022-07-19T09:09:37.293162Z"
    },
    "papermill": {
     "duration": 1.295573,
     "end_time": "2022-07-19T09:09:37.296489",
     "exception": false,
     "start_time": "2022-07-19T09:09:36.000916",
     "status": "completed"
    },
    "tags": []
   },
   "outputs": [
    {
     "data": {
      "image/png": "[encoded data removed]",
      "text/plain": [
       "<Figure size 864x432 with 2 Axes>"
      ]
     },
     "metadata": {},
     "output_type": "display_data"
    }
   ],
   "source": [
    "history = history5.history\n",
    "\n",
    "trg_loss = history['loss']\n",
    "val_loss = history['val_loss']\n",
    "\n",
    "trg_acc = history['accuracy']\n",
    "val_acc = history['val_accuracy']\n",
    "\n",
    "epochs = range(1, len(trg_acc) + 1)\n",
    "\n",
    "# plot losses and accuracies for training and validation \n",
    "fig = plt.figure(figsize=(12,6))\n",
    "ax = fig.add_subplot(1, 2, 1)\n",
    "plt.plot(epochs, trg_loss, marker='o', label='Training Loss')\n",
    "plt.plot(epochs, val_loss, marker='x', label='Validation Loss')\n",
    "plt.title(\"Training / Validation Loss\")\n",
    "ax.set_ylabel(\"Loss\")\n",
    "ax.set_xlabel(\"Epochs\")\n",
    "plt.legend(loc='best')\n",
    "\n",
    "ax = fig.add_subplot(1, 2, 2)\n",
    "plt.plot(epochs, trg_acc, marker='o', label='Training Accuracy')\n",
    "plt.plot(epochs, val_acc, marker='^', label='Validation Accuracy')\n",
    "plt.title(\"Training / Validation Accuracy\")\n",
    "ax.set_ylabel(\"Accuracy\")\n",
    "ax.set_xlabel(\"Epochs\")\n",
    "plt.legend(loc='best')\n",
    "plt.show()"
   ]
  },
  {
   "cell_type": "markdown",
   "id": "d97db41e",
   "metadata": {
    "papermill": {
     "duration": 0.588685,
     "end_time": "2022-07-19T09:09:38.404313",
     "exception": false,
     "start_time": "2022-07-19T09:09:37.815628",
     "status": "completed"
    },
    "tags": []
   },
   "source": [
    "model 6"
   ]
  },
  {
   "cell_type": "code",
   "execution_count": 38,
   "id": "9ef0ca98",
   "metadata": {
    "execution": {
     "iopub.execute_input": "2022-07-19T09:09:39.528363Z",
     "iopub.status.busy": "2022-07-19T09:09:39.527232Z",
     "iopub.status.idle": "2022-07-19T09:09:40.001539Z",
     "shell.execute_reply": "2022-07-19T09:09:40.000323Z"
    },
    "papermill": {
     "duration": 1.074178,
     "end_time": "2022-07-19T09:09:40.003857",
     "exception": false,
     "start_time": "2022-07-19T09:09:38.929679",
     "status": "completed"
    },
    "tags": []
   },
   "outputs": [
    {
     "name": "stdout",
     "output_type": "stream",
     "text": [
      "Model: \"sequential_5\"\n",
      "_________________________________________________________________\n",
      "Layer (type)                 Output Shape              Param #   \n",
      "=================================================================\n",
      "embedding_5 (Embedding)      (None, None, 100)         1394700   \n",
      "_________________________________________________________________\n",
      "bidirectional_6 (Bidirection (None, None, 512)         549888    \n",
      "_________________________________________________________________\n",
      "global_max_pooling1d_4 (Glob (None, 512)               0         \n",
      "_________________________________________________________________\n",
      "dense_12 (Dense)             (None, 64)                32832     \n",
      "_________________________________________________________________\n",
      "dropout_7 (Dropout)          (None, 64)                0         \n",
      "_________________________________________________________________\n",
      "dense_13 (Dense)             (None, 2)                 130       \n",
      "=================================================================\n",
      "Total params: 1,977,550\n",
      "Trainable params: 1,977,550\n",
      "Non-trainable params: 0\n",
      "_________________________________________________________________\n"
     ]
    }
   ],
   "source": [
    "epoch_size =10\n",
    "batch_size = 32\n",
    "# embedding_dim = 16\n",
    "\n",
    "model6 = Sequential([\n",
    "    layers.Embedding(input_dim=embedding_matrix.shape[0], \n",
    "                        output_dim=embedding_matrix.shape[1], \n",
    "                        weights = [embedding_matrix]\n",
    "                        ),\n",
    "    layers.Bidirectional(layers.GRU(256, return_sequences=True)),\n",
    "    layers.GlobalMaxPool1D(),\n",
    "#     layers.Dense(128, activation='relu'),\n",
    "#     layers.Dropout(0.4),\n",
    "    layers.Dense(64, activation='relu'),\n",
    "    layers.Dropout(0.4),\n",
    "    layers.Dense(2, activation='sigmoid')\n",
    "])\n",
    "model6.summary()"
   ]
  },
  {
   "cell_type": "code",
   "execution_count": 39,
   "id": "2c23c054",
   "metadata": {
    "execution": {
     "iopub.execute_input": "2022-07-19T09:09:41.057283Z",
     "iopub.status.busy": "2022-07-19T09:09:41.056687Z",
     "iopub.status.idle": "2022-07-19T09:24:04.117178Z",
     "shell.execute_reply": "2022-07-19T09:24:04.115678Z"
    },
    "papermill": {
     "duration": 863.588742,
     "end_time": "2022-07-19T09:24:04.119812",
     "exception": false,
     "start_time": "2022-07-19T09:09:40.531070",
     "status": "completed"
    },
    "tags": []
   },
   "outputs": [
    {
     "name": "stdout",
     "output_type": "stream",
     "text": [
      "Epoch 1/10\n",
      "215/215 [==============================] - 92s 410ms/step - loss: 0.5502 - accuracy: 0.7336 - val_loss: 0.4709 - val_accuracy: 0.7979\n",
      "Epoch 2/10\n",
      "215/215 [==============================] - 86s 401ms/step - loss: 0.4629 - accuracy: 0.7939 - val_loss: 0.4445 - val_accuracy: 0.8071\n",
      "Epoch 3/10\n",
      "215/215 [==============================] - 86s 399ms/step - loss: 0.4364 - accuracy: 0.8110 - val_loss: 0.4407 - val_accuracy: 0.8018\n",
      "Epoch 4/10\n",
      "215/215 [==============================] - 86s 401ms/step - loss: 0.4234 - accuracy: 0.8162 - val_loss: 0.4329 - val_accuracy: 0.8058\n",
      "Epoch 5/10\n",
      "215/215 [==============================] - 87s 405ms/step - loss: 0.4072 - accuracy: 0.8267 - val_loss: 0.4347 - val_accuracy: 0.8097\n",
      "Epoch 6/10\n",
      "215/215 [==============================] - 86s 398ms/step - loss: 0.4005 - accuracy: 0.8320 - val_loss: 0.4422 - val_accuracy: 0.8123\n",
      "Epoch 7/10\n",
      "215/215 [==============================] - 85s 396ms/step - loss: 0.3897 - accuracy: 0.8356 - val_loss: 0.4404 - val_accuracy: 0.8110\n",
      "Epoch 8/10\n",
      "215/215 [==============================] - 85s 396ms/step - loss: 0.3761 - accuracy: 0.8424 - val_loss: 0.4345 - val_accuracy: 0.8136\n",
      "Epoch 9/10\n",
      "215/215 [==============================] - 85s 397ms/step - loss: 0.3642 - accuracy: 0.8486 - val_loss: 0.4288 - val_accuracy: 0.8215\n",
      "Epoch 10/10\n",
      "215/215 [==============================] - 85s 394ms/step - loss: 0.3538 - accuracy: 0.8521 - val_loss: 0.4657 - val_accuracy: 0.8005\n"
     ]
    }
   ],
   "source": [
    "model6.compile(loss='sparse_categorical_crossentropy', optimizer = RMSprop(learning_rate=0.0001), metrics=['accuracy'])\n",
    "history6 = model6.fit(x, y, epochs=epoch_size, validation_split=0.1)"
   ]
  },
  {
   "cell_type": "code",
   "execution_count": 40,
   "id": "59eec4ce",
   "metadata": {
    "execution": {
     "iopub.execute_input": "2022-07-19T09:24:05.425051Z",
     "iopub.status.busy": "2022-07-19T09:24:05.424478Z",
     "iopub.status.idle": "2022-07-19T09:24:17.805556Z",
     "shell.execute_reply": "2022-07-19T09:24:17.804146Z"
    },
    "papermill": {
     "duration": 13.062418,
     "end_time": "2022-07-19T09:24:17.808619",
     "exception": false,
     "start_time": "2022-07-19T09:24:04.746201",
     "status": "completed"
    },
    "tags": []
   },
   "outputs": [
    {
     "name": "stdout",
     "output_type": "stream",
     "text": [
      "[1 0 1 ... 1 1 0]\n"
     ]
    }
   ],
   "source": [
    "test_pred = np.argmax(model6.predict(test_x), axis=1)\n",
    "print(test_pred)"
   ]
  },
  {
   "cell_type": "code",
   "execution_count": 41,
   "id": "debc90f0",
   "metadata": {
    "execution": {
     "iopub.execute_input": "2022-07-19T09:24:19.166067Z",
     "iopub.status.busy": "2022-07-19T09:24:19.165683Z",
     "iopub.status.idle": "2022-07-19T09:24:19.525062Z",
     "shell.execute_reply": "2022-07-19T09:24:19.523937Z"
    },
    "papermill": {
     "duration": 0.998047,
     "end_time": "2022-07-19T09:24:19.527630",
     "exception": false,
     "start_time": "2022-07-19T09:24:18.529583",
     "status": "completed"
    },
    "tags": []
   },
   "outputs": [
    {
     "data": {
      "image/png": "[encoded data removed]",
      "text/plain": [
       "<Figure size 864x432 with 2 Axes>"
      ]
     },
     "metadata": {},
     "output_type": "display_data"
    }
   ],
   "source": [
    "history = history6.history\n",
    "\n",
    "trg_loss = history['loss']\n",
    "val_loss = history['val_loss']\n",
    "\n",
    "trg_acc = history['accuracy']\n",
    "val_acc = history['val_accuracy']\n",
    "\n",
    "epochs = range(1, len(trg_acc) + 1)\n",
    "\n",
    "# plot losses and accuracies for training and validation \n",
    "fig = plt.figure(figsize=(12,6))\n",
    "ax = fig.add_subplot(1, 2, 1)\n",
    "plt.plot(epochs, trg_loss, marker='o', label='Training Loss')\n",
    "plt.plot(epochs, val_loss, marker='x', label='Validation Loss')\n",
    "plt.title(\"Training / Validation Loss\")\n",
    "ax.set_ylabel(\"Loss\")\n",
    "ax.set_xlabel(\"Epochs\")\n",
    "plt.legend(loc='best')\n",
    "\n",
    "ax = fig.add_subplot(1, 2, 2)\n",
    "plt.plot(epochs, trg_acc, marker='o', label='Training Accuracy')\n",
    "plt.plot(epochs, val_acc, marker='^', label='Validation Accuracy')\n",
    "plt.title(\"Training / Validation Accuracy\")\n",
    "ax.set_ylabel(\"Accuracy\")\n",
    "ax.set_xlabel(\"Epochs\")\n",
    "plt.legend(loc='best')\n",
    "plt.show()"
   ]
  },
  {
   "cell_type": "markdown",
   "id": "3b24a1ed",
   "metadata": {
    "papermill": {
     "duration": 0.701878,
     "end_time": "2022-07-19T09:24:20.860136",
     "exception": false,
     "start_time": "2022-07-19T09:24:20.158258",
     "status": "completed"
    },
    "tags": []
   },
   "source": [
    "create submission"
   ]
  },
  {
   "cell_type": "code",
   "execution_count": 42,
   "id": "82ebd4d0",
   "metadata": {
    "ExecuteTime": {
     "end_time": "2022-07-18T14:14:55.099204Z",
     "start_time": "2022-07-18T14:10:26.552Z"
    },
    "execution": {
     "iopub.execute_input": "2022-07-19T09:24:22.197988Z",
     "iopub.status.busy": "2022-07-19T09:24:22.197629Z",
     "iopub.status.idle": "2022-07-19T09:24:22.209878Z",
     "shell.execute_reply": "2022-07-19T09:24:22.208983Z"
    },
    "papermill": {
     "duration": 0.7229,
     "end_time": "2022-07-19T09:24:22.212034",
     "exception": false,
     "start_time": "2022-07-19T09:24:21.489134",
     "status": "completed"
    },
    "tags": []
   },
   "outputs": [],
   "source": [
    "submission = pd.DataFrame({'id':test_data['id'], 'target':test_pred})\n",
    "submission.to_csv('submission.csv', index=False)"
   ]
  },
  {
   "cell_type": "code",
   "execution_count": null,
   "id": "c4503c38",
   "metadata": {
    "papermill": {
     "duration": 0.630985,
     "end_time": "2022-07-19T09:24:23.475343",
     "exception": false,
     "start_time": "2022-07-19T09:24:22.844358",
     "status": "completed"
    },
    "tags": []
   },
   "outputs": [],
   "source": []
  }
 ],
 "metadata": {
  "kernelspec": {
   "display_name": "Python 3",
   "language": "python",
   "name": "python3"
  },
  "language_info": {
   "codemirror_mode": {
    "name": "ipython",
    "version": 3
   },
   "file_extension": ".py",
   "mimetype": "text/x-python",
   "name": "python",
   "nbconvert_exporter": "python",
   "pygments_lexer": "ipython3",
   "version": "3.7.12"
  },
  "papermill": {
   "default_parameters": {},
   "duration": 6902.321736,
   "end_time": "2022-07-19T09:24:26.955579",
   "environment_variables": {},
   "exception": null,
   "input_path": "__notebook__.ipynb",
   "output_path": "__notebook__.ipynb",
   "parameters": {},
   "start_time": "2022-07-19T07:29:24.633843",
   "version": "2.3.4"
  }
 },
 "nbformat": 4,
 "nbformat_minor": 5
}
